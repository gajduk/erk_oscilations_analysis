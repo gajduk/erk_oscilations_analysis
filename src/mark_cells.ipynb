{
 "cells": [
  {
   "cell_type": "code",
   "execution_count": null,
   "metadata": {
    "collapsed": false,
    "scrolled": false
   },
   "outputs": [],
   "source": [
    "from IPython.core.display import display, HTML\n",
    "display(HTML(\"<style> .widget-hslider {  width: 950px; margin-left: -10px;} </style>\"))\n",
    "\n",
    "\n",
    "import matplotlib.pyplot as plt\n",
    "import numpy as np\n",
    "from ipywidgets import interact, interactive, fixed, Layout\n",
    "import ipywidgets as widgets\n",
    "from filters import NanAndCloseTo1Filter,NoFilter\n",
    "from transformations.peakutils_wrapper import BaselineCorrection,PeakMarker\n",
    "\n",
    "from statsmodels.tsa.stattools import adfuller\n",
    "from datasets.datasets import getDataset\n",
    "from plotter import SingleCellPlotter,SingleConditionPlotter\n",
    "from transformations.transformations import TransformationPipeline, ClearNans, NormalizedByMax, SavGolFilter, Difference\n",
    "from transformations.transformations import removeNans\n",
    "from transformations.tisean_wrapper import TiseanTransformation\n",
    "from filters import MinConsecutiveLengthFilter\n",
    "\n",
    "dataset = getDataset(\"hke3_batch1\")\n",
    "filter_ = MinConsecutiveLengthFilter(40)\n",
    "tp = TransformationPipeline([])\n",
    "\n",
    "previosly_done = []\n",
    "\n",
    "with open(\"res.txt\",'r') as pin:\n",
    "    for line in pin:\n",
    "        s_line = line.split()\n",
    "        previosly_done.append((s_line[0],int(s_line[1])))\n",
    "\n",
    "previosly_done = set(previosly_done)\n",
    "        \n",
    "def getnext():\n",
    "    tuples_ = []\n",
    "    for scd in dataset._scd:  # iterate over conditions\n",
    "        for scmd in scd._scmd:  # iterate over cells\n",
    "            pos = scmd._position\n",
    "            idx = scmd._cell_idx\n",
    "            ts = scmd.get_time_series()\n",
    "            if filter_.filter(ts, pos, idx):\n",
    "                continue\n",
    "            if (pos, idx) in previosly_done:\n",
    "                continue\n",
    "            tuples_.append((ts, pos, idx))\n",
    "    for i,tuple_ in enumerate(tuples_):\n",
    "        yield tuple_\n",
    "        \n",
    "tuples = getnext()\n",
    "global tuple_\n",
    "tuple_=tuples.next()\n",
    "\n",
    "\n",
    "\n",
    "def f(xmin=0,xmax=299):\n",
    "    global tuple_\n",
    "    plt.figure(figsize=(10,5))\n",
    "    plt.plot(tuple_[0],color='blue')\n",
    "    plt.title(str(tuple_[1])+\" \"+str(tuple_[2]))\n",
    "    plt.xlabel('Time [1 Frame = 10 mins]')\n",
    "    plt.ylabel('FRET/CFP')\n",
    "    plt.xlim([-1,301])\n",
    "    plt.axvline(x=xmin,ymin=0,ymax=2,color='red')\n",
    "    plt.axvline(x=xmax,ymin=0,ymax=2,color='red')\n",
    "    plt.ylim([0.75,1.15])\n",
    "    plt.grid()\n",
    "    ts,ts_idx = removeNans(tuple_[0][int(xmin):int(xmax)])\n",
    "    pvalue = adfuller(ts, regression='c')[1]\n",
    "    plt.text(0,0.75,\"{0:.3f}\".format(pvalue))\n",
    "    plt.show()\n",
    "                 \n",
    "\n",
    "global w\n",
    "w = interactive(f, xmin=(0.0,299.0,1.0), xmax=(0.0,299.0,1.0))\n",
    "display(w)\n",
    "\n",
    "def on_click_done(b):\n",
    "    global w\n",
    "    global tuple_\n",
    "    with open(\"res.txt\",'a') as pout:\n",
    "        pout.write(tuple_[1]+\" \"+str(tuple_[2]))\n",
    "        pout.write(\" \"+str(int(w.kwargs['xmin']))+\" \"+str(int(w.kwargs['xmax'])))\n",
    "        pout.write('\\n')\n",
    "    \n",
    "    tuple_ = tuples.next()    \n",
    "    w.close()\n",
    "    w = interactive(f, xmin=(0.0,299.0,1.0), xmax=(0.0,299.0,1.0))\n",
    "    display(w)\n",
    "    display(HTML(\"<style> .widget-hslider {  width: 950px; margin-left: -10px;} </style>\"))\n",
    "    \n",
    "def on_click_discard(b):\n",
    "    global w\n",
    "    global tuple_\n",
    "    tuple_ = tuples.next()\n",
    "    with open(\"res.txt\",'a') as pout:\n",
    "        pout.write(tuple_[1]+\" \"+str(tuple_[2]))\n",
    "        pout.write(\" None None\")\n",
    "        pout.write('\\n')\n",
    "    w.close()\n",
    "    w = interactive(f, xmin=(0.0,299.0,1.0), xmax=(0.0,299.0,1.0))\n",
    "    \n",
    "    \n",
    "    display(w)\n",
    "    display(HTML(\"<style> .widget-hslider {  width: 950px; margin-left: -10px;} </style>\"))\n",
    "\n",
    "button = widgets.Button(description='Done!')\n",
    "display(button)\n",
    "\n",
    "\n",
    "button_discard = widgets.Button(description='Discard!')\n",
    "display(button_discard)\n",
    "    \n",
    "\n",
    "button_discard.on_click(on_click_discard)\n",
    "button.on_click(on_click_done)\n",
    "\n",
    "display(HTML(\"<style> .widget-hslider {  width: 950px; margin-left: -10px;} </style>\"))\n"
   ]
  },
  {
   "cell_type": "code",
   "execution_count": null,
   "metadata": {
    "collapsed": true
   },
   "outputs": [],
   "source": []
  },
  {
   "cell_type": "code",
   "execution_count": null,
   "metadata": {
    "collapsed": true
   },
   "outputs": [],
   "source": []
  },
  {
   "cell_type": "code",
   "execution_count": null,
   "metadata": {
    "collapsed": true
   },
   "outputs": [],
   "source": []
  }
 ],
 "metadata": {
  "kernelspec": {
   "display_name": "Python 2",
   "language": "python",
   "name": "python2"
  },
  "widgets": {
   "state": {
    "04667814ba3d4a22be826d1273dc08c0": {
     "views": [
      {
       "cell_index": 0
      }
     ]
    },
    "a3be2981bffb42eb985d017b7ea5abc7": {
     "views": [
      {
       "cell_index": 0
      }
     ]
    },
    "b1a385ed90c04e31a556bac98d10e6b8": {
     "views": [
      {
       "cell_index": 0
      }
     ]
    },
    "ddf2a2fd6aaa4c0eb0786a3dc7d5b1da": {
     "views": [
      {
       "cell_index": 0
      }
     ]
    },
    "e5422edbae5646519462736e4d0299be": {
     "views": [
      {
       "cell_index": 0
      }
     ]
    },
    "ef0936536c3942fba1272060c3916726": {
     "views": [
      {
       "cell_index": 0
      }
     ]
    }
   },
   "version": "1.2.0"
  }
 },
 "nbformat": 4,
 "nbformat_minor": 2
}
